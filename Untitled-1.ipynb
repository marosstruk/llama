{
 "cells": [
  {
   "cell_type": "code",
   "execution_count": 1,
   "metadata": {},
   "outputs": [],
   "source": [
    "from llama import Llama\n",
    "import os\n",
    "from pymongo import MongoClient\n",
    "from pymongo.database import Database\n",
    "from pymongo.collection import Collection\n",
    "from bson import ObjectId, json_util\n"
   ]
  },
  {
   "cell_type": "code",
   "execution_count": 2,
   "metadata": {},
   "outputs": [],
   "source": [
    "llm = Llama()"
   ]
  },
  {
   "cell_type": "code",
   "execution_count": 3,
   "metadata": {},
   "outputs": [],
   "source": [
    "conn_str = os.environ.get(\"MONGO_CONN_STR\", \"mongodb://172.26.0.1:27017\")\n",
    "client = MongoClient(conn_str)\n",
    "db: Database = client.docparser\n",
    "coll: Collection = db.docs"
   ]
  },
  {
   "cell_type": "code",
   "execution_count": 4,
   "metadata": {},
   "outputs": [],
   "source": [
    "docs = list(coll.find())"
   ]
  },
  {
   "cell_type": "code",
   "execution_count": 5,
   "metadata": {},
   "outputs": [],
   "source": [
    "llm.read_documents(docs)"
   ]
  },
  {
   "cell_type": "code",
   "execution_count": 6,
   "metadata": {},
   "outputs": [],
   "source": [
    "answer = llm.answer_prompt(\"What companies do you know about?\")"
   ]
  },
  {
   "cell_type": "code",
   "execution_count": 7,
   "metadata": {},
   "outputs": [
    {
     "data": {
      "text/plain": [
       "'EDWARDS CHESHIRE COMPANY LIMITED\\nNOTES TO THE FINANCIAL STATEMENTS\\nFOR THE YEAR ENDED 31 MARCH 2018\\nGeneral information\\nEdwards Cheshire Company Limited is a private limited company, it is incorporated in the United\\nKingdom, and its registered office is at 18 Chesford Grange, Warrington, Cheshire, WA1 4RQ.\\nThe principal activity of the company is the supply of timber flooring products.\\nAccounting policies\\n2.1 Basis of preparation of financial statements'"
      ]
     },
     "execution_count": 7,
     "metadata": {},
     "output_type": "execute_result"
    }
   ],
   "source": [
    "answer[\"source_documents\"][0].page_content"
   ]
  },
  {
   "cell_type": "code",
   "execution_count": 8,
   "metadata": {},
   "outputs": [
    {
     "data": {
      "text/plain": [
       "'The company is incorporated in the United Kingdom of the United Kingdom and its registered office at the United Kingdom and has a private limited liited kingdom and its registered office is the United Kingdom, and its registered office is the United Kingdom and its registered office is the United Kingdom and its registered office is the United Kingdom.'"
      ]
     },
     "execution_count": 8,
     "metadata": {},
     "output_type": "execute_result"
    }
   ],
   "source": [
    "answer[\"result\"]"
   ]
  },
  {
   "cell_type": "code",
   "execution_count": null,
   "metadata": {},
   "outputs": [],
   "source": []
  }
 ],
 "metadata": {
  "kernelspec": {
   "display_name": ".venv",
   "language": "python",
   "name": "python3"
  },
  "language_info": {
   "codemirror_mode": {
    "name": "ipython",
    "version": 3
   },
   "file_extension": ".py",
   "mimetype": "text/x-python",
   "name": "python",
   "nbconvert_exporter": "python",
   "pygments_lexer": "ipython3",
   "version": "3.10.12"
  },
  "orig_nbformat": 4
 },
 "nbformat": 4,
 "nbformat_minor": 2
}
